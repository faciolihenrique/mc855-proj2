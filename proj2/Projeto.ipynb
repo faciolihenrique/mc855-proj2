{
 "cells": [
  {
   "cell_type": "markdown",
   "metadata": {},
   "source": [
    "# MC855 - Data analysis pyspark"
   ]
  },
  {
   "cell_type": "markdown",
   "metadata": {},
   "source": [
    "## Initializing spark and data\n",
    " - Spark version 2.2.0\n",
    " - Change /home/henrique/Downloads/spark to the path you downloaded and extracted spark\n",
    " - You may need to export hadoop bin to your path before running jupyter notebook \n",
    "   - `export PATH=$PATH:/Users/hadoop/hadoop/bin`"
   ]
  },
  {
   "cell_type": "code",
   "execution_count": 1,
   "metadata": {
    "collapsed": true
   },
   "outputs": [],
   "source": [
    "# Import findspark \n",
    "import findspark\n",
    "\n",
    "# Initialize and provide path\n",
    "findspark.init(\"/home/henrique/Downloads/spark\")\n",
    "\n",
    "# Or use this alternative\n",
    "#findspark.init()"
   ]
  },
  {
   "cell_type": "code",
   "execution_count": 2,
   "metadata": {
    "collapsed": true
   },
   "outputs": [],
   "source": [
    "# Import SparkSession\n",
    "from pyspark.sql import SparkSession\n",
    "\n",
    "# Build the SparkSession\n",
    "spark = SparkSession.builder \\\n",
    "       .master(\"local\") \\\n",
    "       .appName(\"Linear Regression Model\") \\\n",
    "       .config(\"spark.executor.memory\", \"1gb\") \\\n",
    "       .getOrCreate()\n",
    "   \n",
    "sc = spark.sparkContext"
   ]
  },
  {
   "cell_type": "markdown",
   "metadata": {},
   "source": [
    "## Loading directly from the csv\n",
    "if this is working, the last frame is not needed anymore"
   ]
  },
  {
   "cell_type": "code",
   "execution_count": 3,
   "metadata": {
    "collapsed": true
   },
   "outputs": [],
   "source": [
    "import pyspark\n",
    "sql = pyspark.sql.SQLContext(sc)\n",
    "\n",
    "df = (sql.read\n",
    "         .format(\"com.databricks.spark.csv\")  # Choose the bib to oad csv\n",
    "         .option(\"header\", \"true\")            # Use the first line as header\n",
    "         .option(\"inferSchema\", \"true\")       # Try to infer data type - if this is not set all the typer will be str\n",
    "         .load(\"games.csv\"))                  # File name"
   ]
  },
  {
   "cell_type": "code",
   "execution_count": 4,
   "metadata": {
    "scrolled": false
   },
   "outputs": [
    {
     "data": {
      "text/plain": [
       "DataFrame[gameId: bigint, gameDuration: int, seasonId: int, winner: int, firstBlood: int, firstTower: int, firstInhibitor: int, firstBaron: int, firstDragon: int, firstRiftHerald: int, t1_champ1id: int, t1_champ1_sum1: int, t1_champ1_sum2: int, t1_champ2id: int, t1_champ2_sum1: int, t1_champ2_sum2: int, t1_champ3id: int, t1_champ3_sum1: int, t1_champ3_sum2: int, t1_champ4id: int, t1_champ4_sum1: int, t1_champ4_sum2: int, t1_champ5id: int, t1_champ5_sum1: int, t1_champ5_sum2: int, t1_towerKills: int, t1_inhibitorKills: int, t1_baronKills: int, t1_dragonKills: int, t1_riftHeraldKills: int, t1_ban1: int, t1_ban2: int, t1_ban3: int, t1_ban4: int, t1_ban5: int, t2_champ1id: int, t2_champ1_sum1: int, t2_champ1_sum2: int, t2_champ2id: int, t2_champ2_sum1: int, t2_champ2_sum2: int, t2_champ3id: int, t2_champ3_sum1: int, t2_champ3_sum2: int, t2_champ4id: int, t2_champ4_sum1: int, t2_champ4_sum2: int, t2_champ5id: int, t2_champ5_sum1: int, t2_champ5_sum2: int, t2_towerKills: int, t2_inhibitorKills: int, t2_baronKills: int, t2_dragonKills: int, t2_riftHeraldKills: int, t2_ban1: int, t2_ban2: int, t2_ban3: int, t2_ban4: int, t2_ban5: int]"
      ]
     },
     "execution_count": 4,
     "metadata": {},
     "output_type": "execute_result"
    }
   ],
   "source": [
    "df"
   ]
  },
  {
   "cell_type": "markdown",
   "metadata": {},
   "source": [
    "### Excluding rows that are not needed"
   ]
  },
  {
   "cell_type": "code",
   "execution_count": 5,
   "metadata": {
    "collapsed": true
   },
   "outputs": [],
   "source": [
    "excludes = [\n",
    " 't1_ban1',\n",
    " 't1_ban2',\n",
    " 't1_ban3',\n",
    " 't1_ban4',\n",
    " 't1_ban5',\n",
    " 't1_champ1_sum1',\n",
    " 't1_champ1_sum2',\n",
    " 't1_champ1id',\n",
    " 't1_champ2_sum1',\n",
    " 't1_champ2_sum2',\n",
    " 't1_champ2id',\n",
    " 't1_champ3_sum1',\n",
    " 't1_champ3_sum2',\n",
    " 't1_champ3id',\n",
    " 't1_champ4_sum1',\n",
    " 't1_champ4_sum2',\n",
    " 't1_champ4id',\n",
    " 't1_champ5_sum1',\n",
    " 't1_champ5_sum2',\n",
    " 't1_champ5id',\n",
    " 't2_ban1',\n",
    " 't2_ban2',\n",
    " 't2_ban3',\n",
    " 't2_ban4',\n",
    " 't2_ban5',\n",
    " 't2_champ1_sum1',\n",
    " 't2_champ1_sum2',\n",
    " 't2_champ1id',\n",
    " 't2_champ2_sum1',\n",
    " 't2_champ2_sum2',\n",
    " 't2_champ2id',\n",
    " 't2_champ3_sum1',\n",
    " 't2_champ3_sum2',\n",
    " 't2_champ3id',\n",
    " 't2_champ4_sum1',\n",
    " 't2_champ4_sum2',\n",
    " 't2_champ4id',\n",
    " 't2_champ5_sum1',\n",
    " 't2_champ5_sum2',\n",
    " 't2_champ5id']"
   ]
  },
  {
   "cell_type": "code",
   "execution_count": 6,
   "metadata": {},
   "outputs": [
    {
     "name": "stdout",
     "output_type": "stream",
     "text": [
      "['gameId', 'gameDuration', 'seasonId', 'winner', 'firstBlood', 'firstTower', 'firstInhibitor', 'firstBaron', 'firstDragon', 'firstRiftHerald', 't1_towerKills', 't1_inhibitorKills', 't1_baronKills', 't1_dragonKills', 't1_riftHeraldKills', 't2_towerKills', 't2_inhibitorKills', 't2_baronKills', 't2_dragonKills', 't2_riftHeraldKills']\n"
     ]
    }
   ],
   "source": [
    "for exclude in excludes:\n",
    "    df = df.drop(exclude)\n",
    "    \n",
    "print(df.columns)"
   ]
  },
  {
   "cell_type": "code",
   "execution_count": 7,
   "metadata": {
    "scrolled": true
   },
   "outputs": [
    {
     "name": "stdout",
     "output_type": "stream",
     "text": [
      "root\n",
      " |-- gameId: long (nullable = true)\n",
      " |-- gameDuration: integer (nullable = true)\n",
      " |-- seasonId: integer (nullable = true)\n",
      " |-- winner: integer (nullable = true)\n",
      " |-- firstBlood: integer (nullable = true)\n",
      " |-- firstTower: integer (nullable = true)\n",
      " |-- firstInhibitor: integer (nullable = true)\n",
      " |-- firstBaron: integer (nullable = true)\n",
      " |-- firstDragon: integer (nullable = true)\n",
      " |-- firstRiftHerald: integer (nullable = true)\n",
      " |-- t1_towerKills: integer (nullable = true)\n",
      " |-- t1_inhibitorKills: integer (nullable = true)\n",
      " |-- t1_baronKills: integer (nullable = true)\n",
      " |-- t1_dragonKills: integer (nullable = true)\n",
      " |-- t1_riftHeraldKills: integer (nullable = true)\n",
      " |-- t2_towerKills: integer (nullable = true)\n",
      " |-- t2_inhibitorKills: integer (nullable = true)\n",
      " |-- t2_baronKills: integer (nullable = true)\n",
      " |-- t2_dragonKills: integer (nullable = true)\n",
      " |-- t2_riftHeraldKills: integer (nullable = true)\n",
      "\n"
     ]
    }
   ],
   "source": [
    "df.printSchema()"
   ]
  },
  {
   "cell_type": "code",
   "execution_count": 8,
   "metadata": {},
   "outputs": [
    {
     "data": {
      "text/plain": [
       "[('gameId', 'bigint'),\n",
       " ('gameDuration', 'int'),\n",
       " ('seasonId', 'int'),\n",
       " ('winner', 'int'),\n",
       " ('firstBlood', 'int'),\n",
       " ('firstTower', 'int'),\n",
       " ('firstInhibitor', 'int'),\n",
       " ('firstBaron', 'int'),\n",
       " ('firstDragon', 'int'),\n",
       " ('firstRiftHerald', 'int'),\n",
       " ('t1_towerKills', 'int'),\n",
       " ('t1_inhibitorKills', 'int'),\n",
       " ('t1_baronKills', 'int'),\n",
       " ('t1_dragonKills', 'int'),\n",
       " ('t1_riftHeraldKills', 'int'),\n",
       " ('t2_towerKills', 'int'),\n",
       " ('t2_inhibitorKills', 'int'),\n",
       " ('t2_baronKills', 'int'),\n",
       " ('t2_dragonKills', 'int'),\n",
       " ('t2_riftHeraldKills', 'int')]"
      ]
     },
     "execution_count": 8,
     "metadata": {},
     "output_type": "execute_result"
    }
   ],
   "source": [
    "df.dtypes"
   ]
  },
  {
   "cell_type": "code",
   "execution_count": 9,
   "metadata": {
    "scrolled": true
   },
   "outputs": [
    {
     "name": "stdout",
     "output_type": "stream",
     "text": [
      "+----------+-----------------+-------------+------+\n",
      "|    gameId|t1_inhibitorKills|t2_towerKills|winner|\n",
      "+----------+-----------------+-------------+------+\n",
      "|3326086514|                1|            5|     0|\n",
      "|3229566029|                4|            2|     0|\n",
      "|3327363504|                1|            2|     0|\n",
      "|3326856598|                2|            0|     0|\n",
      "|3330080762|                2|            3|     0|\n",
      "|3287435705|                1|            6|     0|\n",
      "|3314215542|                2|            2|     0|\n",
      "|3329224025|                0|            0|     0|\n",
      "|3318040883|                0|            8|     1|\n",
      "|3327786881|                1|            8|     1|\n",
      "|3325996400|                0|           10|     1|\n",
      "|3284613292|                1|            2|     0|\n",
      "|3321570535|                0|            3|     0|\n",
      "|3323144943|                1|            3|     0|\n",
      "|3329332855|                1|            9|     1|\n",
      "+----------+-----------------+-------------+------+\n",
      "only showing top 15 rows\n",
      "\n"
     ]
    }
   ],
   "source": [
    "df.select('gameId','t1_inhibitorKills','t2_towerKills','winner').show(15)"
   ]
  },
  {
   "cell_type": "code",
   "execution_count": null,
   "metadata": {
    "collapsed": true
   },
   "outputs": [],
   "source": []
  },
  {
   "cell_type": "markdown",
   "metadata": {},
   "source": [
    "## Now, we need to start using MLlib - spark ml library\n",
    "\n",
    " - https://spark.apache.org/docs/2.2.0/ml-classification-regression.html#logistic-regression\n",
    " - http://people.duke.edu/~ccc14/sta-663-2016/21D_Spark_MLib.html\n",
    " - https://docs.databricks.com/spark/latest/mllib/binary-classification-mllib-pipelines.html\n",
    " - https://www.datacamp.com/community/tutorials/apache-spark-tutorial-machine-learning#gs.fip6MdA\n",
    " - https://wesslen.github.io/twitter/predicting_twitter_profile_location_with_pyspark/"
   ]
  },
  {
   "cell_type": "code",
   "execution_count": 10,
   "metadata": {
    "collapsed": true
   },
   "outputs": [],
   "source": [
    "from pyspark.ml.feature import VectorAssembler\n",
    "from pyspark.ml.feature import StandardScaler\n",
    "from pyspark.ml.feature import StringIndexer\n",
    "from pyspark.ml.feature import PCA\n",
    "from pyspark.ml import Pipeline\n",
    "from pyspark.ml.classification import LogisticRegression\n",
    "\n",
    "\n",
    "from pyspark.mllib.regression import LabeledPoint\n",
    "from pyspark.mllib.clustering import GaussianMixture\n",
    "from pyspark.mllib.classification import LogisticRegressionWithLBFGS, LogisticRegressionModel"
   ]
  },
  {
   "cell_type": "markdown",
   "metadata": {
    "collapsed": true
   },
   "source": [
    "### Separating features from target\n",
    " - The LogisticRegression function needs two Colums in df - label and features. (https://stackoverflow.com/questions/44475917/how-does-an-mllib-estimator-know-what-are-the-features-and-target-columns)\n",
    " - Features are the variables we are gonna use to predict the target variable\n",
    " - First, winner is gonna be the label as we want to know the winner\n",
    " - After, all the other info are gonna be the target"
   ]
  },
  {
   "cell_type": "code",
   "execution_count": 11,
   "metadata": {},
   "outputs": [
    {
     "name": "stdout",
     "output_type": "stream",
     "text": [
      "root\n",
      " |-- gameId: long (nullable = true)\n",
      " |-- gameDuration: integer (nullable = true)\n",
      " |-- seasonId: integer (nullable = true)\n",
      " |-- label: integer (nullable = true)\n",
      " |-- firstBlood: integer (nullable = true)\n",
      " |-- firstTower: integer (nullable = true)\n",
      " |-- firstInhibitor: integer (nullable = true)\n",
      " |-- firstBaron: integer (nullable = true)\n",
      " |-- firstDragon: integer (nullable = true)\n",
      " |-- firstRiftHerald: integer (nullable = true)\n",
      " |-- t1_towerKills: integer (nullable = true)\n",
      " |-- t1_inhibitorKills: integer (nullable = true)\n",
      " |-- t1_baronKills: integer (nullable = true)\n",
      " |-- t1_dragonKills: integer (nullable = true)\n",
      " |-- t1_riftHeraldKills: integer (nullable = true)\n",
      " |-- t2_towerKills: integer (nullable = true)\n",
      " |-- t2_inhibitorKills: integer (nullable = true)\n",
      " |-- t2_baronKills: integer (nullable = true)\n",
      " |-- t2_dragonKills: integer (nullable = true)\n",
      " |-- t2_riftHeraldKills: integer (nullable = true)\n",
      "\n"
     ]
    }
   ],
   "source": [
    "# Renaming winner to label\n",
    "df = df.withColumnRenamed(\"winner\",\"label\")\n",
    "df.printSchema()"
   ]
  },
  {
   "cell_type": "markdown",
   "metadata": {},
   "source": [
    "### Inserting necessary fields insed features"
   ]
  },
  {
   "cell_type": "code",
   "execution_count": 12,
   "metadata": {
    "collapsed": true
   },
   "outputs": [],
   "source": [
    "feat_fields = ['gameDuration',\n",
    "              'seasonId', \n",
    "              'firstBlood', \n",
    "              'firstTower', \n",
    "              'firstInhibitor', \n",
    "              'firstBaron', \n",
    "              'firstDragon', \n",
    "              'firstRiftHerald', \n",
    "              't1_towerKills', \n",
    "              't1_inhibitorKills', \n",
    "              't2_baronKills',\n",
    "              't1_dragonKills', \n",
    "              't1_riftHeraldKills', \n",
    "              't2_towerKills', \n",
    "              't2_inhibitorKills',\n",
    "              't2_baronKills',\n",
    "              't2_dragonKills', \n",
    "              't2_riftHeraldKills']"
   ]
  },
  {
   "cell_type": "code",
   "execution_count": 13,
   "metadata": {
    "collapsed": true
   },
   "outputs": [],
   "source": [
    "assembler = VectorAssembler(inputCols=feat_fields, outputCol=\"features\")\n",
    "output = assembler.transform(df)"
   ]
  },
  {
   "cell_type": "code",
   "execution_count": 14,
   "metadata": {},
   "outputs": [
    {
     "name": "stdout",
     "output_type": "stream",
     "text": [
      "+------------+--------+--------------------+\n",
      "|gameDuration|seasonId|            features|\n",
      "+------------+--------+--------------------+\n",
      "|        1949|       9|[1949.0,9.0,0.0,1...|\n",
      "|        1851|       9|[1851.0,9.0,1.0,1...|\n",
      "|        1493|       9|(18,[0,1,3,4,5,8,...|\n",
      "|        1758|       9|(18,[0,1,2,3,4,5,...|\n",
      "|        2094|       9|[2094.0,9.0,0.0,1...|\n",
      "|        2059|       9|(18,[0,1,4,5,8,9,...|\n",
      "|        1993|       9|[1993.0,9.0,1.0,0...|\n",
      "|        1334|       9|(18,[0,1,2,3,7,8,...|\n",
      "|        1387|       9|(18,[0,1,13,14,16...|\n",
      "|        2681|       9|(18,[0,1,8,9,10,1...|\n",
      "|        1391|       9|(18,[0,1,10,11,13...|\n",
      "|        1671|       9|(18,[0,1,2,4,7,8,...|\n",
      "|        2071|       9|[2071.0,9.0,1.0,1...|\n",
      "|        1942|       9|(18,[0,1,4,6,8,9,...|\n",
      "|        2374|       9|(18,[0,1,4,5,8,9,...|\n",
      "|        1717|       9|(18,[0,1,3,4,6,8,...|\n",
      "|        2390|       9|(18,[0,1,8,10,11,...|\n",
      "|        1994|       9|[1994.0,9.0,0.0,1...|\n",
      "|        1513|       9|(18,[0,1,2,13,14,...|\n",
      "|        1898|       9|[1898.0,9.0,1.0,0...|\n",
      "+------------+--------+--------------------+\n",
      "only showing top 20 rows\n",
      "\n"
     ]
    }
   ],
   "source": [
    "# The df will contain all the old Coluns and a new one features\n",
    "# which will contain features we want\n",
    "output.select('gameDuration','seasonId', 'features').show(20)"
   ]
  },
  {
   "cell_type": "markdown",
   "metadata": {},
   "source": [
    "### Split our data into training set and test set"
   ]
  },
  {
   "cell_type": "code",
   "execution_count": 26,
   "metadata": {},
   "outputs": [
    {
     "name": "stdout",
     "output_type": "stream",
     "text": [
      "Training Dataset Count: 36084\n",
      "Test Dataset Count: 15452\n"
     ]
    }
   ],
   "source": [
    "(trainingData, testData) = output.randomSplit([0.7, 0.3], seed = 1234)\n",
    "print(\"Training Dataset Count: \" + str(trainingData.count()))\n",
    "print(\"Test Dataset Count: \" + str(testData.count()))"
   ]
  },
  {
   "cell_type": "markdown",
   "metadata": {},
   "source": [
    "### Apply Logistic Regression"
   ]
  },
  {
   "cell_type": "code",
   "execution_count": 27,
   "metadata": {
    "collapsed": true
   },
   "outputs": [],
   "source": [
    "lr = LogisticRegression(maxIter=20, regParam=0.3, elasticNetParam=0.8, family = \"binomial\")\n",
    "lrModel = lr.fit(trainingData)"
   ]
  },
  {
   "cell_type": "code",
   "execution_count": 28,
   "metadata": {},
   "outputs": [
    {
     "data": {
      "image/png": "[encoded data removed]",
      "text/plain": [
       "<matplotlib.figure.Figure at 0x7f1fc9db3be0>"
      ]
     },
     "metadata": {},
     "output_type": "display_data"
    }
   ],
   "source": [
    "import matplotlib.pyplot as plt\n",
    "import numpy as np\n",
    "\n",
    "beta = np.sort(lrModel.coefficients)\n",
    "\n",
    "plt.plot(beta)\n",
    "plt.ylabel('Beta Coefficients')\n",
    "plt.show()"
   ]
  },
  {
   "cell_type": "code",
   "execution_count": 29,
   "metadata": {},
   "outputs": [
    {
     "data": {
      "image/png": "[encoded data removed]",
      "text/plain": [
       "<matplotlib.figure.Figure at 0x7f1fca6c0128>"
      ]
     },
     "metadata": {},
     "output_type": "display_data"
    }
   ],
   "source": [
    "trainingSummary = lrModel.summary\n",
    "\n",
    "# Obtain the objective per iteration\n",
    "objectiveHistory = trainingSummary.objectiveHistory\n",
    "plt.plot(objectiveHistory)\n",
    "plt.ylabel('Objective Function')\n",
    "plt.xlabel('Iteration')\n",
    "plt.show()"
   ]
  },
  {
   "cell_type": "code",
   "execution_count": 30,
   "metadata": {},
   "outputs": [
    {
     "name": "stdout",
     "output_type": "stream",
     "text": [
      "areaUnderROC: 0.9934172534653803\n"
     ]
    },
    {
     "data": {
      "image/png": "[encoded data removed]",
      "text/plain": [
       "<matplotlib.figure.Figure at 0x7f1fc9f305c0>"
      ]
     },
     "metadata": {},
     "output_type": "display_data"
    }
   ],
   "source": [
    "# Obtain the receiver-operating characteristic as a dataframe and areaUnderROC.\n",
    "print(\"areaUnderROC: \" + str(trainingSummary.areaUnderROC))\n",
    "\n",
    "#trainingSummary.roc.show(n=10, truncate=15)\n",
    "roc = trainingSummary.roc.toPandas()\n",
    "plt.plot(roc['FPR'],roc['TPR'])\n",
    "plt.ylabel('False Positive Rate')\n",
    "plt.xlabel('True Positive Rate')\n",
    "plt.title('ROC Curve')\n",
    "plt.show()"
   ]
  },
  {
   "cell_type": "code",
   "execution_count": 31,
   "metadata": {},
   "outputs": [
    {
     "data": {
      "image/png": "[encoded data removed]",
      "text/plain": [
       "<matplotlib.figure.Figure at 0x7f1f9b029ac8>"
      ]
     },
     "metadata": {},
     "output_type": "display_data"
    }
   ],
   "source": [
    "pr = trainingSummary.pr.toPandas()\n",
    "plt.plot(pr['recall'],pr['precision'])\n",
    "plt.ylabel('Precision')\n",
    "plt.xlabel('Recall')\n",
    "plt.show()"
   ]
  },
  {
   "cell_type": "code",
   "execution_count": 32,
   "metadata": {
    "collapsed": true
   },
   "outputs": [],
   "source": [
    "predictions = lrModel.transform(testData)"
   ]
  },
  {
   "cell_type": "code",
   "execution_count": 33,
   "metadata": {},
   "outputs": [
    {
     "name": "stdout",
     "output_type": "stream",
     "text": [
      "+-----+----------+----------------------------------------+\n",
      "|label|prediction|                             probability|\n",
      "+-----+----------+----------------------------------------+\n",
      "|    1|       1.0|[0.31102410010767145,0.6889758998923285]|\n",
      "|    0|       0.0| [0.637791927251582,0.36220807274841804]|\n",
      "|    0|       0.0| [0.5741940636451258,0.4258059363548741]|\n",
      "|    0|       0.0|[0.6631379598356968,0.33686204016430316]|\n",
      "|    1|       1.0| [0.3496248658000024,0.6503751341999976]|\n",
      "|    1|       1.0| [0.3663562926530106,0.6336437073469894]|\n",
      "|    0|       0.0| [0.6121186442633195,0.3878813557366804]|\n",
      "|    0|       0.0| [0.6355534292497721,0.3644465707502279]|\n",
      "|    1|       0.0| [0.5109484846478908,0.4890515153521092]|\n",
      "|    0|       1.0| [0.4940156640700304,0.5059843359299696]|\n",
      "+-----+----------+----------------------------------------+\n",
      "only showing top 10 rows\n",
      "\n"
     ]
    }
   ],
   "source": [
    "predictions.select(\"label\",\"prediction\",\"probability\")\\\n",
    "           .show(n=10, truncate=40)"
   ]
  },
  {
   "cell_type": "code",
   "execution_count": 34,
   "metadata": {},
   "outputs": [
    {
     "name": "stdout",
     "output_type": "stream",
     "text": [
      "Number of correct prediction: 14776\n",
      "Total of elements: 15452\n",
      "95.62516179135388%\n"
     ]
    }
   ],
   "source": [
    "print(\"Number of correct prediction: \" + str(predictions.filter(predictions['prediction'] == predictions['label']).count()))\n",
    "print(\"Total of elements: \" + str(testData.count()))\n",
    "\n",
    "print(str(predictions.filter(predictions['prediction'] == predictions['label']).count()/testData.count()*100) + '%')"
   ]
  },
  {
   "cell_type": "code",
   "execution_count": 35,
   "metadata": {},
   "outputs": [
    {
     "name": "stdout",
     "output_type": "stream",
     "text": [
      "+----------+--------------------+-----+----------+\n",
      "|    gameId|         probability|label|prediction|\n",
      "+----------+--------------------+-----+----------+\n",
      "|3214824413|[0.31102410010767...|    1|       1.0|\n",
      "|3214825708|[0.63779192725158...|    0|       0.0|\n",
      "|3214843995|[0.57419406364512...|    0|       0.0|\n",
      "|3215041408|[0.66313795983569...|    0|       0.0|\n",
      "|3215114840|[0.34962486580000...|    1|       1.0|\n",
      "|3215119997|[0.36635629265301...|    1|       1.0|\n",
      "|3215149108|[0.61211864426331...|    0|       0.0|\n",
      "|3215193866|[0.63555342924977...|    0|       0.0|\n",
      "|3215297742|[0.32683658370897...|    1|       1.0|\n",
      "|3215303507|[0.67920433556204...|    0|       0.0|\n",
      "|3215315292|[0.52911926498278...|    0|       0.0|\n",
      "|3215369419|[0.63555342924977...|    0|       0.0|\n",
      "|3215451229|[0.69894516220915...|    0|       0.0|\n",
      "|3215465409|[0.27488384627604...|    1|       1.0|\n",
      "|3215509559|[0.34523689153523...|    1|       1.0|\n",
      "|3215522891|[0.56993336433123...|    0|       0.0|\n",
      "|3215526825|[0.71601200948943...|    0|       0.0|\n",
      "|3215561389|[0.39030241124404...|    1|       1.0|\n",
      "|3215573210|[0.68130916323607...|    0|       0.0|\n",
      "|3215576990|[0.62308476563961...|    0|       0.0|\n",
      "+----------+--------------------+-----+----------+\n",
      "only showing top 20 rows\n",
      "\n"
     ]
    }
   ],
   "source": [
    "predictions.filter(predictions['prediction'] == predictions['label'])\\\n",
    "           .select(\"gameId\",\"probability\",\"label\",\"prediction\").show(20)"
   ]
  },
  {
   "cell_type": "code",
   "execution_count": 36,
   "metadata": {},
   "outputs": [
    {
     "name": "stdout",
     "output_type": "stream",
     "text": [
      "Training: Area Under ROC: 0.9934172534653803\n",
      "Test: Area Under ROC: 0.9945049001405329\n"
     ]
    }
   ],
   "source": [
    "from pyspark.ml.evaluation import BinaryClassificationEvaluator\n",
    "print(\"Training: Area Under ROC: \" + str(trainingSummary.areaUnderROC))\n",
    "\n",
    "# Evaluate model\n",
    "evaluator = BinaryClassificationEvaluator(rawPredictionCol=\"rawPrediction\")\n",
    "print(\"Test: Area Under ROC: \" + str(evaluator.evaluate(predictions, {evaluator.metricName: \"areaUnderROC\"})))"
   ]
  },
  {
   "cell_type": "code",
   "execution_count": null,
   "metadata": {
    "collapsed": true
   },
   "outputs": [],
   "source": []
  }
 ],
 "metadata": {
  "kernelspec": {
   "display_name": "Python 3",
   "language": "python",
   "name": "python3"
  },
  "language_info": {
   "codemirror_mode": {
    "name": "ipython",
    "version": 3
   },
   "file_extension": ".py",
   "mimetype": "text/x-python",
   "name": "python",
   "nbconvert_exporter": "python",
   "pygments_lexer": "ipython3",
   "version": "3.6.2"
  }
 },
 "nbformat": 4,
 "nbformat_minor": 2
}
