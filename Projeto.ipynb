{
 "cells": [
  {
   "cell_type": "markdown",
   "metadata": {},
   "source": [
    "# MC855 - Data analysis pyspark"
   ]
  },
  {
   "cell_type": "markdown",
   "metadata": {},
   "source": [
    "## Initializing spark and data\n",
    " - Spark version 2.2.0\n",
    " - Change /home/henrique/Downloads/spark to the path you downloaded and extracted spark\n",
    " - You may need to export hadoop bin to your path before running jupyter notebook \n",
    "   - `export PATH=$PATH:/Users/hadoop/hadoop/bin`"
   ]
  },
  {
   "cell_type": "code",
   "execution_count": 1,
   "metadata": {
    "collapsed": true
   },
   "outputs": [],
   "source": [
    "# Import findspark \n",
    "import findspark\n",
    "\n",
    "# Initialize and provide path\n",
    "findspark.init(\"/home/henrique/Downloads/spark\")\n",
    "\n",
    "# Or use this alternative\n",
    "#findspark.init()"
   ]
  },
  {
   "cell_type": "code",
   "execution_count": 2,
   "metadata": {
    "collapsed": true
   },
   "outputs": [],
   "source": [
    "# Import SparkSession\n",
    "from pyspark.sql import SparkSession\n",
    "\n",
    "# Build the SparkSession\n",
    "spark = SparkSession.builder \\\n",
    "       .master(\"local\") \\\n",
    "       .appName(\"Linear Regression Model\") \\\n",
    "       .config(\"spark.executor.memory\", \"1gb\") \\\n",
    "       .getOrCreate()\n",
    "   \n",
    "sc = spark.sparkContext"
   ]
  },
  {
   "cell_type": "code",
   "execution_count": 3,
   "metadata": {
    "collapsed": true
   },
   "outputs": [],
   "source": [
    "# Deprecated - Using direct load from CSV to df\n",
    "#file = sc.textFile(\"games.csv\")\n",
    "#header = file.first()                           #extract header\n",
    "#data = file.filter(lambda row: row != header)   #filter out header"
   ]
  },
  {
   "cell_type": "markdown",
   "metadata": {},
   "source": [
    "## Trying to load directly from the csv\n",
    "if this is working, the last frame is not needed anymore"
   ]
  },
  {
   "cell_type": "code",
   "execution_count": 4,
   "metadata": {
    "collapsed": true
   },
   "outputs": [],
   "source": [
    "import pyspark\n",
    "sql = pyspark.sql.SQLContext(sc)\n",
    "\n",
    "df = (sql.read\n",
    "         .format(\"com.databricks.spark.csv\")  # Choose the bib to oad csv\n",
    "         .option(\"header\", \"true\")            # Use the first line as header\n",
    "         .option(\"inferSchema\", \"true\")       # Try to infer data type - if this is not set all the typer will be str\n",
    "         .load(\"games.csv\"))                  # File name"
   ]
  },
  {
   "cell_type": "code",
   "execution_count": 5,
   "metadata": {},
   "outputs": [
    {
     "data": {
      "text/plain": [
       "DataFrame[gameId: bigint, gameDuration: int, seasonId: int, winner: int, firstBlood: int, firstTower: int, firstInhibitor: int, firstBaron: int, firstDragon: int, firstRiftHerald: int, t1_champ1id: int, t1_champ1_sum1: int, t1_champ1_sum2: int, t1_champ2id: int, t1_champ2_sum1: int, t1_champ2_sum2: int, t1_champ3id: int, t1_champ3_sum1: int, t1_champ3_sum2: int, t1_champ4id: int, t1_champ4_sum1: int, t1_champ4_sum2: int, t1_champ5id: int, t1_champ5_sum1: int, t1_champ5_sum2: int, t1_towerKills: int, t1_inhibitorKills: int, t1_baronKills: int, t1_dragonKills: int, t1_riftHeraldKills: int, t1_ban1: int, t1_ban2: int, t1_ban3: int, t1_ban4: int, t1_ban5: int, t2_champ1id: int, t2_champ1_sum1: int, t2_champ1_sum2: int, t2_champ2id: int, t2_champ2_sum1: int, t2_champ2_sum2: int, t2_champ3id: int, t2_champ3_sum1: int, t2_champ3_sum2: int, t2_champ4id: int, t2_champ4_sum1: int, t2_champ4_sum2: int, t2_champ5id: int, t2_champ5_sum1: int, t2_champ5_sum2: int, t2_towerKills: int, t2_inhibitorKills: int, t2_baronKills: int, t2_dragonKills: int, t2_riftHeraldKills: int, t2_ban1: int, t2_ban2: int, t2_ban3: int, t2_ban4: int, t2_ban5: int]"
      ]
     },
     "execution_count": 5,
     "metadata": {},
     "output_type": "execute_result"
    }
   ],
   "source": [
    "df"
   ]
  },
  {
   "cell_type": "code",
   "execution_count": null,
   "metadata": {
    "collapsed": true
   },
   "outputs": [],
   "source": []
  },
  {
   "cell_type": "markdown",
   "metadata": {},
   "source": [
    "### Just checking if data is Ok\n",
    "will print the first three lines of file and the last two of then must be equal to data"
   ]
  },
  {
   "cell_type": "code",
   "execution_count": 6,
   "metadata": {
    "collapsed": true
   },
   "outputs": [],
   "source": [
    "#file.take(3)"
   ]
  },
  {
   "cell_type": "code",
   "execution_count": 7,
   "metadata": {
    "collapsed": true
   },
   "outputs": [],
   "source": [
    "#data.take(2)"
   ]
  },
  {
   "cell_type": "markdown",
   "metadata": {},
   "source": [
    "### Spliting each element of the data list and turning each line in a list..."
   ]
  },
  {
   "cell_type": "code",
   "execution_count": 8,
   "metadata": {
    "collapsed": true
   },
   "outputs": [],
   "source": [
    "#file = file.map(lambda line: line.split(\",\"))"
   ]
  },
  {
   "cell_type": "code",
   "execution_count": null,
   "metadata": {
    "collapsed": true
   },
   "outputs": [],
   "source": []
  },
  {
   "cell_type": "markdown",
   "metadata": {},
   "source": [
    "### Defining the header of the rdd and turning it into a DataFrame"
   ]
  },
  {
   "cell_type": "code",
   "execution_count": 9,
   "metadata": {
    "collapsed": true
   },
   "outputs": [],
   "source": [
    "# Map the RDD to a DF\n",
    "#from pyspark.sql import Row\n",
    "\n",
    "#df = file.map(lambda line: Row(gameId =                 line[0],\n",
    "#                                gameDuration =          line[1],\n",
    "#                                seasonId =              line[2],\n",
    "#                                winner =                line[3],\n",
    "#                                firstBlood =            line[4],\n",
    "#                                firstTower =            line[5],\n",
    "#                                firstInhibitor =        line[6],\n",
    "#                                firstBaron =            line[7],\n",
    "#                                firstDragon =           line[8],\n",
    "#                                firstRiftHerald =       line[9],\n",
    "#                                t1_champ1id =           line[10],\n",
    "#                                t1_champ1_sum1 =        line[11],\n",
    "#                                t1_champ1_sum2 =        line[12],\n",
    "#                                t1_champ2id =           line[13],\n",
    "#                                t1_champ2_sum1 =        line[14],\n",
    "#                                t1_champ2_sum2 =        line[15],\n",
    "#                                t1_champ3id =           line[16],\n",
    "#                                t1_champ3_sum1 =        line[17],\n",
    "#                                t1_champ3_sum2 =        line[18],\n",
    "#                                t1_champ4id =           line[19],\n",
    "#                                t1_champ4_sum1 =        line[20],\n",
    "#                                t1_champ4_sum2 =        line[21],\n",
    "#                                t1_champ5id =           line[22],\n",
    "#                                t1_champ5_sum1 =        line[23],\n",
    "#                                t1_champ5_sum2 =        line[24],\n",
    "#                                t1_towerKills =         line[25],\n",
    "#                                t1_inhibitorKills =     line[26],\n",
    "#                                t1_baronKills =         line[27],\n",
    "#                                t1_dragonKills =        line[28],\n",
    "#                                t1_riftHeraldKills =    line[29],\n",
    "#                                t1_ban1 =               line[30],\n",
    "#                                t1_ban2 =               line[31],\n",
    "#                                t1_ban3 =               line[32],\n",
    "#                                t1_ban4 =               line[33],\n",
    "#                                t1_ban5 =               line[34],\n",
    "#                                t2_champ1id =           line[35],\n",
    "#                                t2_champ1_sum1 =        line[36],\n",
    "#                                t2_champ1_sum2 =        line[37],\n",
    "#                                t2_champ2id =           line[38],\n",
    "#                                t2_champ2_sum1 =        line[39],\n",
    "#                                t2_champ2_sum2 =        line[40],\n",
    "#                                t2_champ3id =           line[41],\n",
    "#                                t2_champ3_sum1 =        line[42],\n",
    "#                                t2_champ3_sum2 =        line[43],\n",
    "#                                t2_champ4id =           line[44],\n",
    "#                                t2_champ4_sum1 =        line[45],\n",
    "#                                t2_champ4_sum2 =        line[46],\n",
    "#                                t2_champ5id =           line[47],\n",
    "#                                t2_champ5_sum1 =        line[48],\n",
    "#                                t2_champ5_sum2 =        line[49],\n",
    "#                                t2_towerKills =         line[50],\n",
    "#                                t2_inhibitorKills =     line[51],\n",
    "#                                t2_baronKills =         line[52],\n",
    "#                                t2_dragonKills =        line[53],\n",
    "#                                t2_riftHeraldKills =    line[54],\n",
    "#                                t2_ban1 =               line[55],\n",
    "#                                t2_ban2 =               line[56],\n",
    "#                                t2_ban3 =               line[57],\n",
    "#                                t2_ban4 =               line[58],\n",
    "#                                t2_ban5 =               line[59])).toDF()"
   ]
  },
  {
   "cell_type": "code",
   "execution_count": 10,
   "metadata": {
    "collapsed": true
   },
   "outputs": [],
   "source": [
    "#df.show()"
   ]
  },
  {
   "cell_type": "markdown",
   "metadata": {},
   "source": [
    "### Excluding rows that are not needed"
   ]
  },
  {
   "cell_type": "code",
   "execution_count": 11,
   "metadata": {
    "collapsed": true
   },
   "outputs": [],
   "source": [
    "excludes = [\n",
    " 't1_ban1',\n",
    " 't1_ban2',\n",
    " 't1_ban3',\n",
    " 't1_ban4',\n",
    " 't1_ban5',\n",
    " 't1_champ1_sum1',\n",
    " 't1_champ1_sum2',\n",
    " 't1_champ1id',\n",
    " 't1_champ2_sum1',\n",
    " 't1_champ2_sum2',\n",
    " 't1_champ2id',\n",
    " 't1_champ3_sum1',\n",
    " 't1_champ3_sum2',\n",
    " 't1_champ3id',\n",
    " 't1_champ4_sum1',\n",
    " 't1_champ4_sum2',\n",
    " 't1_champ4id',\n",
    " 't1_champ5_sum1',\n",
    " 't1_champ5_sum2',\n",
    " 't1_champ5id',\n",
    " 't2_ban1',\n",
    " 't2_ban2',\n",
    " 't2_ban3',\n",
    " 't2_ban4',\n",
    " 't2_ban5',\n",
    " 't2_champ1_sum1',\n",
    " 't2_champ1_sum2',\n",
    " 't2_champ1id',\n",
    " 't2_champ2_sum1',\n",
    " 't2_champ2_sum2',\n",
    " 't2_champ2id',\n",
    " 't2_champ3_sum1',\n",
    " 't2_champ3_sum2',\n",
    " 't2_champ3id',\n",
    " 't2_champ4_sum1',\n",
    " 't2_champ4_sum2',\n",
    " 't2_champ4id',\n",
    " 't2_champ5_sum1',\n",
    " 't2_champ5_sum2',\n",
    " 't2_champ5id']"
   ]
  },
  {
   "cell_type": "code",
   "execution_count": 12,
   "metadata": {
    "collapsed": true
   },
   "outputs": [],
   "source": [
    "for exclude in excludes:\n",
    "    df = df.drop(exclude)"
   ]
  },
  {
   "cell_type": "code",
   "execution_count": 13,
   "metadata": {
    "scrolled": true
   },
   "outputs": [
    {
     "data": {
      "text/plain": [
       "['gameId',\n",
       " 'gameDuration',\n",
       " 'seasonId',\n",
       " 'winner',\n",
       " 'firstBlood',\n",
       " 'firstTower',\n",
       " 'firstInhibitor',\n",
       " 'firstBaron',\n",
       " 'firstDragon',\n",
       " 'firstRiftHerald',\n",
       " 't1_towerKills',\n",
       " 't1_inhibitorKills',\n",
       " 't1_baronKills',\n",
       " 't1_dragonKills',\n",
       " 't1_riftHeraldKills',\n",
       " 't2_towerKills',\n",
       " 't2_inhibitorKills',\n",
       " 't2_baronKills',\n",
       " 't2_dragonKills',\n",
       " 't2_riftHeraldKills']"
      ]
     },
     "execution_count": 13,
     "metadata": {},
     "output_type": "execute_result"
    }
   ],
   "source": [
    "df.columns"
   ]
  },
  {
   "cell_type": "markdown",
   "metadata": {},
   "source": [
    "### Now we need to define each row type"
   ]
  },
  {
   "cell_type": "code",
   "execution_count": 14,
   "metadata": {
    "collapsed": true
   },
   "outputs": [],
   "source": [
    "# DEPRECATED - AS We're importing it directly from CSV\n",
    "# Import all from `sql.types`\n",
    "#from pyspark.sql.types import *\n",
    "\n",
    "# Write a custom function to convert the data type of DataFrame columns\n",
    "#def convertColumn(df, names, newType):\n",
    "#  for name in names: \n",
    "#     df = df.withColumn(name, df[name].cast(newType))\n",
    "#  return df \n",
    "\n",
    "# Assign all column names to `columns`\n",
    "\n",
    "# Conver the `df` columns to `FloatType()`\n",
    "#df = convertColumn(df, columns, IntegerType())\n",
    "\n",
    "#df = df.select(\"medianHouseValue\", \n",
    "#              \"totalBedRooms\", \n",
    "#              \"population\", \n",
    "#              \"households\", \n",
    "#              \"medianIncome\", \n",
    "#              \"roomsPerHousehold\", \n",
    "#              \"populationPerHousehold\", \n",
    "#              \"bedroomsPerRoom\")"
   ]
  },
  {
   "cell_type": "code",
   "execution_count": 15,
   "metadata": {
    "scrolled": true
   },
   "outputs": [
    {
     "name": "stdout",
     "output_type": "stream",
     "text": [
      "root\n",
      " |-- gameId: long (nullable = true)\n",
      " |-- gameDuration: integer (nullable = true)\n",
      " |-- seasonId: integer (nullable = true)\n",
      " |-- winner: integer (nullable = true)\n",
      " |-- firstBlood: integer (nullable = true)\n",
      " |-- firstTower: integer (nullable = true)\n",
      " |-- firstInhibitor: integer (nullable = true)\n",
      " |-- firstBaron: integer (nullable = true)\n",
      " |-- firstDragon: integer (nullable = true)\n",
      " |-- firstRiftHerald: integer (nullable = true)\n",
      " |-- t1_towerKills: integer (nullable = true)\n",
      " |-- t1_inhibitorKills: integer (nullable = true)\n",
      " |-- t1_baronKills: integer (nullable = true)\n",
      " |-- t1_dragonKills: integer (nullable = true)\n",
      " |-- t1_riftHeraldKills: integer (nullable = true)\n",
      " |-- t2_towerKills: integer (nullable = true)\n",
      " |-- t2_inhibitorKills: integer (nullable = true)\n",
      " |-- t2_baronKills: integer (nullable = true)\n",
      " |-- t2_dragonKills: integer (nullable = true)\n",
      " |-- t2_riftHeraldKills: integer (nullable = true)\n",
      "\n"
     ]
    }
   ],
   "source": [
    "df.printSchema()"
   ]
  },
  {
   "cell_type": "code",
   "execution_count": 16,
   "metadata": {},
   "outputs": [
    {
     "data": {
      "text/plain": [
       "[('gameId', 'bigint'),\n",
       " ('gameDuration', 'int'),\n",
       " ('seasonId', 'int'),\n",
       " ('winner', 'int'),\n",
       " ('firstBlood', 'int'),\n",
       " ('firstTower', 'int'),\n",
       " ('firstInhibitor', 'int'),\n",
       " ('firstBaron', 'int'),\n",
       " ('firstDragon', 'int'),\n",
       " ('firstRiftHerald', 'int'),\n",
       " ('t1_towerKills', 'int'),\n",
       " ('t1_inhibitorKills', 'int'),\n",
       " ('t1_baronKills', 'int'),\n",
       " ('t1_dragonKills', 'int'),\n",
       " ('t1_riftHeraldKills', 'int'),\n",
       " ('t2_towerKills', 'int'),\n",
       " ('t2_inhibitorKills', 'int'),\n",
       " ('t2_baronKills', 'int'),\n",
       " ('t2_dragonKills', 'int'),\n",
       " ('t2_riftHeraldKills', 'int')]"
      ]
     },
     "execution_count": 16,
     "metadata": {},
     "output_type": "execute_result"
    }
   ],
   "source": [
    "df.dtypes"
   ]
  },
  {
   "cell_type": "code",
   "execution_count": 17,
   "metadata": {
    "scrolled": true
   },
   "outputs": [
    {
     "name": "stdout",
     "output_type": "stream",
     "text": [
      "+----------+-----------------+-------------+------+\n",
      "|    gameId|t1_inhibitorKills|t2_towerKills|winner|\n",
      "+----------+-----------------+-------------+------+\n",
      "|3326086514|                1|            5|     0|\n",
      "|3229566029|                4|            2|     0|\n",
      "|3327363504|                1|            2|     0|\n",
      "|3326856598|                2|            0|     0|\n",
      "|3330080762|                2|            3|     0|\n",
      "|3287435705|                1|            6|     0|\n",
      "|3314215542|                2|            2|     0|\n",
      "|3329224025|                0|            0|     0|\n",
      "|3318040883|                0|            8|     1|\n",
      "|3327786881|                1|            8|     1|\n",
      "|3325996400|                0|           10|     1|\n",
      "|3284613292|                1|            2|     0|\n",
      "|3321570535|                0|            3|     0|\n",
      "|3323144943|                1|            3|     0|\n",
      "|3329332855|                1|            9|     1|\n",
      "+----------+-----------------+-------------+------+\n",
      "only showing top 15 rows\n",
      "\n"
     ]
    }
   ],
   "source": [
    "df.select('gameId','t1_inhibitorKills','t2_towerKills','winner').show(15)"
   ]
  },
  {
   "cell_type": "code",
   "execution_count": null,
   "metadata": {
    "collapsed": true
   },
   "outputs": [],
   "source": []
  },
  {
   "cell_type": "markdown",
   "metadata": {},
   "source": [
    "## Now, we need to start using MLlib - spark ml library\n",
    "\n",
    " - https://spark.apache.org/docs/2.2.0/ml-classification-regression.html#logistic-regression\n",
    " - http://people.duke.edu/~ccc14/sta-663-2016/21D_Spark_MLib.html\n",
    " - https://docs.databricks.com/spark/latest/mllib/binary-classification-mllib-pipelines.html\n",
    " - https://www.datacamp.com/community/tutorials/apache-spark-tutorial-machine-learning#gs.fip6MdA\n",
    " - https://wesslen.github.io/twitter/predicting_twitter_profile_location_with_pyspark/"
   ]
  },
  {
   "cell_type": "code",
   "execution_count": 18,
   "metadata": {
    "collapsed": true
   },
   "outputs": [],
   "source": [
    "from pyspark.ml.feature import VectorAssembler\n",
    "from pyspark.ml.feature import StandardScaler\n",
    "from pyspark.ml.feature import StringIndexer\n",
    "from pyspark.ml.feature import PCA\n",
    "from pyspark.ml import Pipeline\n",
    "from pyspark.ml.classification import LogisticRegression\n",
    "\n",
    "\n",
    "from pyspark.mllib.regression import LabeledPoint\n",
    "from pyspark.mllib.clustering import GaussianMixture\n",
    "from pyspark.mllib.classification import LogisticRegressionWithLBFGS, LogisticRegressionModel"
   ]
  },
  {
   "cell_type": "markdown",
   "metadata": {
    "collapsed": true
   },
   "source": [
    "### Separating features from target\n",
    "Features are the variables we are gonna use to predict the target variable"
   ]
  },
  {
   "cell_type": "code",
   "execution_count": 19,
   "metadata": {},
   "outputs": [
    {
     "name": "stdout",
     "output_type": "stream",
     "text": [
      "root\n",
      " |-- gameId: long (nullable = true)\n",
      " |-- gameDuration: integer (nullable = true)\n",
      " |-- seasonId: integer (nullable = true)\n",
      " |-- label: integer (nullable = true)\n",
      " |-- firstBlood: integer (nullable = true)\n",
      " |-- firstTower: integer (nullable = true)\n",
      " |-- firstInhibitor: integer (nullable = true)\n",
      " |-- firstBaron: integer (nullable = true)\n",
      " |-- firstDragon: integer (nullable = true)\n",
      " |-- firstRiftHerald: integer (nullable = true)\n",
      " |-- t1_towerKills: integer (nullable = true)\n",
      " |-- t1_inhibitorKills: integer (nullable = true)\n",
      " |-- t1_baronKills: integer (nullable = true)\n",
      " |-- t1_dragonKills: integer (nullable = true)\n",
      " |-- t1_riftHeraldKills: integer (nullable = true)\n",
      " |-- t2_towerKills: integer (nullable = true)\n",
      " |-- t2_inhibitorKills: integer (nullable = true)\n",
      " |-- t2_baronKills: integer (nullable = true)\n",
      " |-- t2_dragonKills: integer (nullable = true)\n",
      " |-- t2_riftHeraldKills: integer (nullable = true)\n",
      "\n"
     ]
    }
   ],
   "source": [
    "df = df.withColumnRenamed(\"winner\",\"label\")\n",
    "df.printSchema()"
   ]
  },
  {
   "cell_type": "markdown",
   "metadata": {},
   "source": [
    "### This are the data we're gonna use to predict"
   ]
  },
  {
   "cell_type": "code",
   "execution_count": 20,
   "metadata": {
    "collapsed": true
   },
   "outputs": [],
   "source": [
    "input_data = ['gameDuration',\n",
    "              'seasonId', \n",
    "              'firstBlood', \n",
    "              'firstTower', \n",
    "              'firstInhibitor', \n",
    "              'firstBaron', \n",
    "              'firstDragon', \n",
    "              'firstRiftHerald', \n",
    "              't1_towerKills', \n",
    "              't1_inhibitorKills', \n",
    "              't2_baronKills',\n",
    "              't1_dragonKills', \n",
    "              't1_riftHeraldKills', \n",
    "              't2_towerKills', \n",
    "              't2_inhibitorKills',\n",
    "              't2_baronKills',\n",
    "              't2_dragonKills', \n",
    "              't2_riftHeraldKills']"
   ]
  },
  {
   "cell_type": "code",
   "execution_count": 21,
   "metadata": {
    "collapsed": true
   },
   "outputs": [],
   "source": [
    "assembler = VectorAssembler(inputCols=input_data, outputCol=\"features\")\n",
    "output = assembler.transform(df)"
   ]
  },
  {
   "cell_type": "code",
   "execution_count": 22,
   "metadata": {},
   "outputs": [
    {
     "data": {
      "text/plain": [
       "Column<b'features'>"
      ]
     },
     "execution_count": 22,
     "metadata": {},
     "output_type": "execute_result"
    }
   ],
   "source": [
    "output['features']"
   ]
  },
  {
   "cell_type": "code",
   "execution_count": 23,
   "metadata": {},
   "outputs": [
    {
     "name": "stdout",
     "output_type": "stream",
     "text": [
      "Training Dataset Count: 41165\n",
      "Test Dataset Count: 10371\n"
     ]
    }
   ],
   "source": [
    "(trainingData, testData) = output.randomSplit([0.8, 0.2], seed = 1234)\n",
    "print(\"Training Dataset Count: \" + str(trainingData.count()))\n",
    "print(\"Test Dataset Count: \" + str(testData.count()))"
   ]
  },
  {
   "cell_type": "code",
   "execution_count": 24,
   "metadata": {},
   "outputs": [],
   "source": [
    "lr = LogisticRegression(maxIter=20, regParam=0.3, elasticNetParam=0.8, family = \"binomial\")\n",
    "lrModel = lr.fit(trainingData)"
   ]
  },
  {
   "cell_type": "code",
   "execution_count": 25,
   "metadata": {},
   "outputs": [
    {
     "data": {
      "image/png": "[encoded data removed]",
      "text/plain": [
       "<matplotlib.figure.Figure at 0x7fcd610f5748>"
      ]
     },
     "metadata": {},
     "output_type": "display_data"
    }
   ],
   "source": [
    "import matplotlib.pyplot as plt\n",
    "import numpy as np\n",
    "\n",
    "beta = np.sort(lrModel.coefficients)\n",
    "\n",
    "plt.plot(beta)\n",
    "plt.ylabel('Beta Coefficients')\n",
    "plt.show()"
   ]
  },
  {
   "cell_type": "code",
   "execution_count": 26,
   "metadata": {},
   "outputs": [
    {
     "data": {
      "image/png": "[encoded data removed]",
      "text/plain": [
       "<matplotlib.figure.Figure at 0x7fcd363a6438>"
      ]
     },
     "metadata": {},
     "output_type": "display_data"
    }
   ],
   "source": [
    "trainingSummary = lrModel.summary\n",
    "\n",
    "# Obtain the objective per iteration\n",
    "objectiveHistory = trainingSummary.objectiveHistory\n",
    "plt.plot(objectiveHistory)\n",
    "plt.ylabel('Objective Function')\n",
    "plt.xlabel('Iteration')\n",
    "plt.show()"
   ]
  },
  {
   "cell_type": "code",
   "execution_count": null,
   "metadata": {},
   "outputs": [],
   "source": []
  },
  {
   "cell_type": "code",
   "execution_count": 27,
   "metadata": {},
   "outputs": [
    {
     "name": "stdout",
     "output_type": "stream",
     "text": [
      "areaUnderROC: 0.9934218599004339\n"
     ]
    },
    {
     "data": {
      "image/png": "[encoded data removed]",
      "text/plain": [
       "<matplotlib.figure.Figure at 0x7fcd2acc0a90>"
      ]
     },
     "metadata": {},
     "output_type": "display_data"
    }
   ],
   "source": [
    "# Obtain the receiver-operating characteristic as a dataframe and areaUnderROC.\n",
    "print(\"areaUnderROC: \" + str(trainingSummary.areaUnderROC))\n",
    "\n",
    "#trainingSummary.roc.show(n=10, truncate=15)\n",
    "roc = trainingSummary.roc.toPandas()\n",
    "plt.plot(roc['FPR'],roc['TPR'])\n",
    "plt.ylabel('False Positive Rate')\n",
    "plt.xlabel('True Positive Rate')\n",
    "plt.title('ROC Curve')\n",
    "plt.show()"
   ]
  },
  {
   "cell_type": "code",
   "execution_count": 28,
   "metadata": {},
   "outputs": [
    {
     "data": {
      "image/png": "[encoded data removed]",
      "text/plain": [
       "<matplotlib.figure.Figure at 0x7fcd342df748>"
      ]
     },
     "metadata": {},
     "output_type": "display_data"
    }
   ],
   "source": [
    "pr = trainingSummary.pr.toPandas()\n",
    "plt.plot(pr['recall'],pr['precision'])\n",
    "plt.ylabel('Precision')\n",
    "plt.xlabel('Recall')\n",
    "plt.show()"
   ]
  },
  {
   "cell_type": "code",
   "execution_count": 29,
   "metadata": {
    "collapsed": true
   },
   "outputs": [],
   "source": [
    "predictions = lrModel.transform(testData)"
   ]
  },
  {
   "cell_type": "code",
   "execution_count": 30,
   "metadata": {},
   "outputs": [
    {
     "name": "stdout",
     "output_type": "stream",
     "text": [
      "+-----+----------+----------------------------------------+\n",
      "|label|prediction|                             probability|\n",
      "+-----+----------+----------------------------------------+\n",
      "|    1|       1.0| [0.3112133993451116,0.6887866006548884]|\n",
      "|    0|       0.0| [0.6388510591825755,0.3611489408174245]|\n",
      "|    0|       0.0|  [0.575999674094577,0.4240003259054231]|\n",
      "|    0|       0.0|[0.6627150496407138,0.33728495035928613]|\n",
      "|    1|       1.0| [0.3495811877722081,0.6504188122277919]|\n",
      "|    1|       1.0|[0.36701483742035346,0.6329851625796467]|\n",
      "|    0|       0.0| [0.6088430112827148,0.3911569887172852]|\n",
      "|    0|       0.0| [0.6371650903154406,0.3628349096845595]|\n",
      "|    0|       1.0|[0.49391812431174453,0.5060818756882555]|\n",
      "|    1|       1.0| [0.3276976662002996,0.6723023337997004]|\n",
      "+-----+----------+----------------------------------------+\n",
      "only showing top 10 rows\n",
      "\n"
     ]
    }
   ],
   "source": [
    "predictions.select(\"label\",\"prediction\",\"probability\")\\\n",
    "           .show(n=10, truncate=40)"
   ]
  },
  {
   "cell_type": "code",
   "execution_count": 31,
   "metadata": {},
   "outputs": [
    {
     "name": "stdout",
     "output_type": "stream",
     "text": [
      "Number of correct prediction: 9921\n",
      "Total of elements: 10371\n"
     ]
    }
   ],
   "source": [
    "print(\"Number of correct prediction: \" + str(predictions.filter(predictions['prediction'] == predictions['label']).count()))\n",
    "print(\"Total of elements: \" + str(testData.count()))"
   ]
  },
  {
   "cell_type": "code",
   "execution_count": 32,
   "metadata": {},
   "outputs": [
    {
     "name": "stdout",
     "output_type": "stream",
     "text": [
      "+----------+--------------------+-----+----------+\n",
      "|    gameId|         probability|label|prediction|\n",
      "+----------+--------------------+-----+----------+\n",
      "|3214824413|[0.31121339934511...|    1|       1.0|\n",
      "|3214825708|[0.63885105918257...|    0|       0.0|\n",
      "|3214843995|[0.57599967409457...|    0|       0.0|\n",
      "|3215041408|[0.66271504964071...|    0|       0.0|\n",
      "|3215114840|[0.34958118777220...|    1|       1.0|\n",
      "|3215119997|[0.36701483742035...|    1|       1.0|\n",
      "|3215149108|[0.60884301128271...|    0|       0.0|\n",
      "|3215193866|[0.63716509031544...|    0|       0.0|\n",
      "|3215297742|[0.32769766620029...|    1|       1.0|\n",
      "|3215303507|[0.67945164498512...|    0|       0.0|\n",
      "|3215451229|[0.69882080890096...|    0|       0.0|\n",
      "|3215522891|[0.56681779514219...|    0|       0.0|\n",
      "|3215573210|[0.68103948488371...|    0|       0.0|\n",
      "|3215576990|[0.62289281128896...|    0|       0.0|\n",
      "|3215584595|[0.71750619654263...|    0|       0.0|\n",
      "|3215653188|[0.69728214155553...|    0|       0.0|\n",
      "|3215659502|[0.41171682428018...|    1|       1.0|\n",
      "|3215715730|[0.27527440592110...|    1|       1.0|\n",
      "|3216025800|[0.57823090002105...|    0|       0.0|\n",
      "|3216075930|[0.62674721900203...|    0|       0.0|\n",
      "+----------+--------------------+-----+----------+\n",
      "only showing top 20 rows\n",
      "\n"
     ]
    }
   ],
   "source": [
    "predictions.filter(predictions['prediction'] == predictions['label'])\\\n",
    "           .select(\"gameId\",\"probability\",\"label\",\"prediction\").show(20)"
   ]
  },
  {
   "cell_type": "code",
   "execution_count": 33,
   "metadata": {},
   "outputs": [
    {
     "name": "stdout",
     "output_type": "stream",
     "text": [
      "Training: Area Under ROC: 0.9934218599004339\n",
      "Test: Area Under ROC: 0.9942406087179659\n"
     ]
    }
   ],
   "source": [
    "from pyspark.ml.evaluation import BinaryClassificationEvaluator\n",
    "print(\"Training: Area Under ROC: \" + str(trainingSummary.areaUnderROC))\n",
    "\n",
    "# Evaluate model\n",
    "evaluator = BinaryClassificationEvaluator(rawPredictionCol=\"rawPrediction\")\n",
    "print(\"Test: Area Under ROC: \" + str(evaluator.evaluate(predictions, {evaluator.metricName: \"areaUnderROC\"})))"
   ]
  },
  {
   "cell_type": "code",
   "execution_count": null,
   "metadata": {},
   "outputs": [],
   "source": []
  },
  {
   "cell_type": "markdown",
   "metadata": {},
   "source": []
  }
 ],
 "metadata": {
  "kernelspec": {
   "display_name": "Python 3",
   "language": "python",
   "name": "python3"
  },
  "language_info": {
   "codemirror_mode": {
    "name": "ipython",
    "version": 3
   },
   "file_extension": ".py",
   "mimetype": "text/x-python",
   "name": "python",
   "nbconvert_exporter": "python",
   "pygments_lexer": "ipython3",
   "version": "3.6.2"
  }
 },
 "nbformat": 4,
 "nbformat_minor": 2
}
