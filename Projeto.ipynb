{
 "cells": [
  {
   "cell_type": "markdown",
   "metadata": {},
   "source": [
    "# MC855 - Data analysis pyspark"
   ]
  },
  {
   "cell_type": "markdown",
   "metadata": {},
   "source": [
    "## Initializing spark and data\n",
    " - Spark version 2.2.0\n",
    " - Change /home/henrique/Downloads/spark to the path you downloaded and extracted spark\n",
    " - You may need to export hadoop bin to your path before running jupyter notebook \n",
    "   - `export PATH=$PATH:/Users/hadoop/hadoop/bin`"
   ]
  },
  {
   "cell_type": "code",
   "execution_count": 1,
   "metadata": {
    "collapsed": true
   },
   "outputs": [],
   "source": [
    "# Import findspark \n",
    "import findspark\n",
    "\n",
    "# Initialize and provide path\n",
    "findspark.init(\"/home/henrique/Downloads/spark\")\n",
    "\n",
    "# Or use this alternative\n",
    "#findspark.init()"
   ]
  },
  {
   "cell_type": "code",
   "execution_count": 2,
   "metadata": {
    "collapsed": true
   },
   "outputs": [],
   "source": [
    "# Import SparkSession\n",
    "from pyspark.sql import SparkSession\n",
    "\n",
    "# Build the SparkSession\n",
    "spark = SparkSession.builder \\\n",
    "       .master(\"local\") \\\n",
    "       .appName(\"Linear Regression Model\") \\\n",
    "       .config(\"spark.executor.memory\", \"1gb\") \\\n",
    "       .getOrCreate()\n",
    "   \n",
    "sc = spark.sparkContext"
   ]
  },
  {
   "cell_type": "code",
   "execution_count": 3,
   "metadata": {
    "collapsed": true
   },
   "outputs": [],
   "source": [
    "# Deprecated - Using direct load from CSV to df\n",
    "#file = sc.textFile(\"games.csv\")\n",
    "#header = file.first()                           #extract header\n",
    "#data = file.filter(lambda row: row != header)   #filter out header"
   ]
  },
  {
   "cell_type": "markdown",
   "metadata": {},
   "source": [
    "## Trying to load directly from the csv\n",
    "if this is working, the last frame is not needed anymore"
   ]
  },
  {
   "cell_type": "code",
   "execution_count": 4,
   "metadata": {
    "collapsed": true
   },
   "outputs": [],
   "source": [
    "import pyspark\n",
    "sql = pyspark.sql.SQLContext(sc)\n",
    "\n",
    "df = (sql.read\n",
    "         .format(\"com.databricks.spark.csv\")  # Choose the bib to oad csv\n",
    "         .option(\"header\", \"true\")            # Use the first line as header\n",
    "         .option(\"inferSchema\", \"true\")       # Try to infer data type - if this is not set all the typer will be str\n",
    "         .load(\"games.csv\"))                  # File name"
   ]
  },
  {
   "cell_type": "code",
   "execution_count": 5,
   "metadata": {},
   "outputs": [
    {
     "data": {
      "text/plain": [
       "DataFrame[gameId: bigint, gameDuration: int, seasonId: int, winner: int, firstBlood: int, firstTower: int, firstInhibitor: int, firstBaron: int, firstDragon: int, firstRiftHerald: int, t1_champ1id: int, t1_champ1_sum1: int, t1_champ1_sum2: int, t1_champ2id: int, t1_champ2_sum1: int, t1_champ2_sum2: int, t1_champ3id: int, t1_champ3_sum1: int, t1_champ3_sum2: int, t1_champ4id: int, t1_champ4_sum1: int, t1_champ4_sum2: int, t1_champ5id: int, t1_champ5_sum1: int, t1_champ5_sum2: int, t1_towerKills: int, t1_inhibitorKills: int, t1_baronKills: int, t1_dragonKills: int, t1_riftHeraldKills: int, t1_ban1: int, t1_ban2: int, t1_ban3: int, t1_ban4: int, t1_ban5: int, t2_champ1id: int, t2_champ1_sum1: int, t2_champ1_sum2: int, t2_champ2id: int, t2_champ2_sum1: int, t2_champ2_sum2: int, t2_champ3id: int, t2_champ3_sum1: int, t2_champ3_sum2: int, t2_champ4id: int, t2_champ4_sum1: int, t2_champ4_sum2: int, t2_champ5id: int, t2_champ5_sum1: int, t2_champ5_sum2: int, t2_towerKills: int, t2_inhibitorKills: int, t2_baronKills: int, t2_dragonKills: int, t2_riftHeraldKills: int, t2_ban1: int, t2_ban2: int, t2_ban3: int, t2_ban4: int, t2_ban5: int]"
      ]
     },
     "execution_count": 5,
     "metadata": {},
     "output_type": "execute_result"
    }
   ],
   "source": [
    "df"
   ]
  },
  {
   "cell_type": "code",
   "execution_count": null,
   "metadata": {
    "collapsed": true
   },
   "outputs": [],
   "source": []
  },
  {
   "cell_type": "markdown",
   "metadata": {},
   "source": [
    "### Just checking if data is Ok\n",
    "will print the first three lines of file and the last two of then must be equal to data"
   ]
  },
  {
   "cell_type": "code",
   "execution_count": 6,
   "metadata": {
    "collapsed": true
   },
   "outputs": [],
   "source": [
    "#file.take(3)"
   ]
  },
  {
   "cell_type": "code",
   "execution_count": 7,
   "metadata": {
    "collapsed": true
   },
   "outputs": [],
   "source": [
    "#data.take(2)"
   ]
  },
  {
   "cell_type": "markdown",
   "metadata": {},
   "source": [
    "### Spliting each element of the data list and turning each line in a list..."
   ]
  },
  {
   "cell_type": "code",
   "execution_count": 8,
   "metadata": {
    "collapsed": true
   },
   "outputs": [],
   "source": [
    "#file = file.map(lambda line: line.split(\",\"))"
   ]
  },
  {
   "cell_type": "code",
   "execution_count": null,
   "metadata": {
    "collapsed": true
   },
   "outputs": [],
   "source": []
  },
  {
   "cell_type": "markdown",
   "metadata": {},
   "source": [
    "### Defining the header of the rdd and turning it into a DataFrame"
   ]
  },
  {
   "cell_type": "code",
   "execution_count": 9,
   "metadata": {
    "collapsed": true
   },
   "outputs": [],
   "source": [
    "# Map the RDD to a DF\n",
    "#from pyspark.sql import Row\n",
    "\n",
    "#df = file.map(lambda line: Row(gameId =                 line[0],\n",
    "#                                gameDuration =          line[1],\n",
    "#                                seasonId =              line[2],\n",
    "#                                winner =                line[3],\n",
    "#                                firstBlood =            line[4],\n",
    "#                                firstTower =            line[5],\n",
    "#                                firstInhibitor =        line[6],\n",
    "#                                firstBaron =            line[7],\n",
    "#                                firstDragon =           line[8],\n",
    "#                                firstRiftHerald =       line[9],\n",
    "#                                t1_champ1id =           line[10],\n",
    "#                                t1_champ1_sum1 =        line[11],\n",
    "#                                t1_champ1_sum2 =        line[12],\n",
    "#                                t1_champ2id =           line[13],\n",
    "#                                t1_champ2_sum1 =        line[14],\n",
    "#                                t1_champ2_sum2 =        line[15],\n",
    "#                                t1_champ3id =           line[16],\n",
    "#                                t1_champ3_sum1 =        line[17],\n",
    "#                                t1_champ3_sum2 =        line[18],\n",
    "#                                t1_champ4id =           line[19],\n",
    "#                                t1_champ4_sum1 =        line[20],\n",
    "#                                t1_champ4_sum2 =        line[21],\n",
    "#                                t1_champ5id =           line[22],\n",
    "#                                t1_champ5_sum1 =        line[23],\n",
    "#                                t1_champ5_sum2 =        line[24],\n",
    "#                                t1_towerKills =         line[25],\n",
    "#                                t1_inhibitorKills =     line[26],\n",
    "#                                t1_baronKills =         line[27],\n",
    "#                                t1_dragonKills =        line[28],\n",
    "#                                t1_riftHeraldKills =    line[29],\n",
    "#                                t1_ban1 =               line[30],\n",
    "#                                t1_ban2 =               line[31],\n",
    "#                                t1_ban3 =               line[32],\n",
    "#                                t1_ban4 =               line[33],\n",
    "#                                t1_ban5 =               line[34],\n",
    "#                                t2_champ1id =           line[35],\n",
    "#                                t2_champ1_sum1 =        line[36],\n",
    "#                                t2_champ1_sum2 =        line[37],\n",
    "#                                t2_champ2id =           line[38],\n",
    "#                                t2_champ2_sum1 =        line[39],\n",
    "#                                t2_champ2_sum2 =        line[40],\n",
    "#                                t2_champ3id =           line[41],\n",
    "#                                t2_champ3_sum1 =        line[42],\n",
    "#                                t2_champ3_sum2 =        line[43],\n",
    "#                                t2_champ4id =           line[44],\n",
    "#                                t2_champ4_sum1 =        line[45],\n",
    "#                                t2_champ4_sum2 =        line[46],\n",
    "#                                t2_champ5id =           line[47],\n",
    "#                                t2_champ5_sum1 =        line[48],\n",
    "#                                t2_champ5_sum2 =        line[49],\n",
    "#                                t2_towerKills =         line[50],\n",
    "#                                t2_inhibitorKills =     line[51],\n",
    "#                                t2_baronKills =         line[52],\n",
    "#                                t2_dragonKills =        line[53],\n",
    "#                                t2_riftHeraldKills =    line[54],\n",
    "#                                t2_ban1 =               line[55],\n",
    "#                                t2_ban2 =               line[56],\n",
    "#                                t2_ban3 =               line[57],\n",
    "#                                t2_ban4 =               line[58],\n",
    "#                                t2_ban5 =               line[59])).toDF()"
   ]
  },
  {
   "cell_type": "code",
   "execution_count": 10,
   "metadata": {
    "collapsed": true
   },
   "outputs": [],
   "source": [
    "#df.show()"
   ]
  },
  {
   "cell_type": "markdown",
   "metadata": {},
   "source": [
    "### Excluding rows that are not needed"
   ]
  },
  {
   "cell_type": "code",
   "execution_count": 11,
   "metadata": {
    "collapsed": true
   },
   "outputs": [],
   "source": [
    "excludes = [\n",
    " 't1_ban1',\n",
    " 't1_ban2',\n",
    " 't1_ban3',\n",
    " 't1_ban4',\n",
    " 't1_ban5',\n",
    " 't1_baronKills',\n",
    " 't1_champ1_sum1',\n",
    " 't1_champ1_sum2',\n",
    " 't1_champ1id',\n",
    " 't1_champ2_sum1',\n",
    " 't1_champ2_sum2',\n",
    " 't1_champ2id',\n",
    " 't1_champ3_sum1',\n",
    " 't1_champ3_sum2',\n",
    " 't1_champ3id',\n",
    " 't1_champ4_sum1',\n",
    " 't1_champ4_sum2',\n",
    " 't1_champ4id',\n",
    " 't1_champ5_sum1',\n",
    " 't1_champ5_sum2',\n",
    " 't1_champ5id',\n",
    " 't2_ban1',\n",
    " 't2_ban2',\n",
    " 't2_ban3',\n",
    " 't2_ban4',\n",
    " 't2_ban5',\n",
    " 't2_baronKills',\n",
    " 't2_champ1_sum1',\n",
    " 't2_champ1_sum2',\n",
    " 't2_champ1id',\n",
    " 't2_champ2_sum1',\n",
    " 't2_champ2_sum2',\n",
    " 't2_champ2id',\n",
    " 't2_champ3_sum1',\n",
    " 't2_champ3_sum2',\n",
    " 't2_champ3id',\n",
    " 't2_champ4_sum1',\n",
    " 't2_champ4_sum2',\n",
    " 't2_champ4id',\n",
    " 't2_champ5_sum1',\n",
    " 't2_champ5_sum2',\n",
    " 't2_champ5id']"
   ]
  },
  {
   "cell_type": "code",
   "execution_count": 12,
   "metadata": {
    "collapsed": true
   },
   "outputs": [],
   "source": [
    "for exclude in excludes:\n",
    "    df = df.drop(exclude)"
   ]
  },
  {
   "cell_type": "code",
   "execution_count": 13,
   "metadata": {
    "scrolled": true
   },
   "outputs": [
    {
     "data": {
      "text/plain": [
       "['gameId',\n",
       " 'gameDuration',\n",
       " 'seasonId',\n",
       " 'winner',\n",
       " 'firstBlood',\n",
       " 'firstTower',\n",
       " 'firstInhibitor',\n",
       " 'firstBaron',\n",
       " 'firstDragon',\n",
       " 'firstRiftHerald',\n",
       " 't1_towerKills',\n",
       " 't1_inhibitorKills',\n",
       " 't1_dragonKills',\n",
       " 't1_riftHeraldKills',\n",
       " 't2_towerKills',\n",
       " 't2_inhibitorKills',\n",
       " 't2_dragonKills',\n",
       " 't2_riftHeraldKills']"
      ]
     },
     "execution_count": 13,
     "metadata": {},
     "output_type": "execute_result"
    }
   ],
   "source": [
    "df.columns"
   ]
  },
  {
   "cell_type": "markdown",
   "metadata": {},
   "source": [
    "### Now we need to define each row type"
   ]
  },
  {
   "cell_type": "code",
   "execution_count": 14,
   "metadata": {
    "collapsed": true
   },
   "outputs": [],
   "source": [
    "# DEPRECATED - AS We're importing it directly from CSV\n",
    "# Import all from `sql.types`\n",
    "#from pyspark.sql.types import *\n",
    "\n",
    "# Write a custom function to convert the data type of DataFrame columns\n",
    "#def convertColumn(df, names, newType):\n",
    "#  for name in names: \n",
    "#     df = df.withColumn(name, df[name].cast(newType))\n",
    "#  return df \n",
    "\n",
    "# Assign all column names to `columns`\n",
    "\n",
    "# Conver the `df` columns to `FloatType()`\n",
    "#df = convertColumn(df, columns, IntegerType())\n",
    "\n",
    "#df = df.select(\"medianHouseValue\", \n",
    "#              \"totalBedRooms\", \n",
    "#              \"population\", \n",
    "#              \"households\", \n",
    "#              \"medianIncome\", \n",
    "#              \"roomsPerHousehold\", \n",
    "#              \"populationPerHousehold\", \n",
    "#              \"bedroomsPerRoom\")"
   ]
  },
  {
   "cell_type": "code",
   "execution_count": 15,
   "metadata": {
    "scrolled": true
   },
   "outputs": [
    {
     "name": "stdout",
     "output_type": "stream",
     "text": [
      "root\n",
      " |-- gameId: long (nullable = true)\n",
      " |-- gameDuration: integer (nullable = true)\n",
      " |-- seasonId: integer (nullable = true)\n",
      " |-- winner: integer (nullable = true)\n",
      " |-- firstBlood: integer (nullable = true)\n",
      " |-- firstTower: integer (nullable = true)\n",
      " |-- firstInhibitor: integer (nullable = true)\n",
      " |-- firstBaron: integer (nullable = true)\n",
      " |-- firstDragon: integer (nullable = true)\n",
      " |-- firstRiftHerald: integer (nullable = true)\n",
      " |-- t1_towerKills: integer (nullable = true)\n",
      " |-- t1_inhibitorKills: integer (nullable = true)\n",
      " |-- t1_dragonKills: integer (nullable = true)\n",
      " |-- t1_riftHeraldKills: integer (nullable = true)\n",
      " |-- t2_towerKills: integer (nullable = true)\n",
      " |-- t2_inhibitorKills: integer (nullable = true)\n",
      " |-- t2_dragonKills: integer (nullable = true)\n",
      " |-- t2_riftHeraldKills: integer (nullable = true)\n",
      "\n"
     ]
    }
   ],
   "source": [
    "df.printSchema()"
   ]
  },
  {
   "cell_type": "code",
   "execution_count": 16,
   "metadata": {},
   "outputs": [
    {
     "data": {
      "text/plain": [
       "[('gameId', 'bigint'),\n",
       " ('gameDuration', 'int'),\n",
       " ('seasonId', 'int'),\n",
       " ('winner', 'int'),\n",
       " ('firstBlood', 'int'),\n",
       " ('firstTower', 'int'),\n",
       " ('firstInhibitor', 'int'),\n",
       " ('firstBaron', 'int'),\n",
       " ('firstDragon', 'int'),\n",
       " ('firstRiftHerald', 'int'),\n",
       " ('t1_towerKills', 'int'),\n",
       " ('t1_inhibitorKills', 'int'),\n",
       " ('t1_dragonKills', 'int'),\n",
       " ('t1_riftHeraldKills', 'int'),\n",
       " ('t2_towerKills', 'int'),\n",
       " ('t2_inhibitorKills', 'int'),\n",
       " ('t2_dragonKills', 'int'),\n",
       " ('t2_riftHeraldKills', 'int')]"
      ]
     },
     "execution_count": 16,
     "metadata": {},
     "output_type": "execute_result"
    }
   ],
   "source": [
    "df.dtypes"
   ]
  },
  {
   "cell_type": "code",
   "execution_count": 17,
   "metadata": {
    "scrolled": true
   },
   "outputs": [
    {
     "name": "stdout",
     "output_type": "stream",
     "text": [
      "+----------+-----------------+-------------+------+\n",
      "|    gameId|t1_inhibitorKills|t2_towerKills|winner|\n",
      "+----------+-----------------+-------------+------+\n",
      "|3326086514|                1|            5|     0|\n",
      "|3229566029|                4|            2|     0|\n",
      "|3327363504|                1|            2|     0|\n",
      "|3326856598|                2|            0|     0|\n",
      "|3330080762|                2|            3|     0|\n",
      "|3287435705|                1|            6|     0|\n",
      "|3314215542|                2|            2|     0|\n",
      "|3329224025|                0|            0|     0|\n",
      "|3318040883|                0|            8|     1|\n",
      "|3327786881|                1|            8|     1|\n",
      "|3325996400|                0|           10|     1|\n",
      "|3284613292|                1|            2|     0|\n",
      "|3321570535|                0|            3|     0|\n",
      "|3323144943|                1|            3|     0|\n",
      "|3329332855|                1|            9|     1|\n",
      "+----------+-----------------+-------------+------+\n",
      "only showing top 15 rows\n",
      "\n"
     ]
    }
   ],
   "source": [
    "df.select('gameId','t1_inhibitorKills','t2_towerKills','winner').show(15)"
   ]
  },
  {
   "cell_type": "code",
   "execution_count": null,
   "metadata": {
    "collapsed": true
   },
   "outputs": [],
   "source": []
  },
  {
   "cell_type": "markdown",
   "metadata": {},
   "source": [
    "## Now, we need to start using MLlib - spark ml library\n",
    "\n",
    " - https://spark.apache.org/docs/2.2.0/ml-classification-regression.html#logistic-regression\n",
    " - http://people.duke.edu/~ccc14/sta-663-2016/21D_Spark_MLib.html\n",
    " - https://docs.databricks.com/spark/latest/mllib/binary-classification-mllib-pipelines.html\n",
    " - https://www.datacamp.com/community/tutorials/apache-spark-tutorial-machine-learning#gs.fip6MdA\n",
    " - https://wesslen.github.io/twitter/predicting_twitter_profile_location_with_pyspark/"
   ]
  },
  {
   "cell_type": "code",
   "execution_count": 18,
   "metadata": {
    "collapsed": true
   },
   "outputs": [],
   "source": [
    "from pyspark.ml.feature import VectorAssembler\n",
    "from pyspark.ml.feature import StandardScaler\n",
    "from pyspark.ml.feature import StringIndexer\n",
    "from pyspark.ml.feature import PCA\n",
    "from pyspark.ml import Pipeline\n",
    "from pyspark.ml.classification import LogisticRegression\n",
    "\n",
    "\n",
    "from pyspark.mllib.regression import LabeledPoint\n",
    "from pyspark.mllib.clustering import GaussianMixture\n",
    "from pyspark.mllib.classification import LogisticRegressionWithLBFGS, LogisticRegressionModel"
   ]
  },
  {
   "cell_type": "markdown",
   "metadata": {
    "collapsed": true
   },
   "source": [
    "### Separating features from target\n",
    "Features are the variables we are gonna use to predict the target variable"
   ]
  },
  {
   "cell_type": "code",
   "execution_count": 19,
   "metadata": {},
   "outputs": [
    {
     "name": "stdout",
     "output_type": "stream",
     "text": [
      "root\n",
      " |-- gameId: long (nullable = true)\n",
      " |-- gameDuration: integer (nullable = true)\n",
      " |-- seasonId: integer (nullable = true)\n",
      " |-- label: integer (nullable = true)\n",
      " |-- firstBlood: integer (nullable = true)\n",
      " |-- firstTower: integer (nullable = true)\n",
      " |-- firstInhibitor: integer (nullable = true)\n",
      " |-- firstBaron: integer (nullable = true)\n",
      " |-- firstDragon: integer (nullable = true)\n",
      " |-- firstRiftHerald: integer (nullable = true)\n",
      " |-- t1_towerKills: integer (nullable = true)\n",
      " |-- t1_inhibitorKills: integer (nullable = true)\n",
      " |-- t1_dragonKills: integer (nullable = true)\n",
      " |-- t1_riftHeraldKills: integer (nullable = true)\n",
      " |-- t2_towerKills: integer (nullable = true)\n",
      " |-- t2_inhibitorKills: integer (nullable = true)\n",
      " |-- t2_dragonKills: integer (nullable = true)\n",
      " |-- t2_riftHeraldKills: integer (nullable = true)\n",
      "\n"
     ]
    }
   ],
   "source": [
    "df = df.withColumnRenamed(\"winner\",\"label\")\n",
    "df.printSchema()"
   ]
  },
  {
   "cell_type": "markdown",
   "metadata": {},
   "source": [
    "### This are the data we're gonna use to predict"
   ]
  },
  {
   "cell_type": "code",
   "execution_count": 20,
   "metadata": {
    "collapsed": true
   },
   "outputs": [],
   "source": [
    "input_data = ['gameDuration', \n",
    "              'seasonId', \n",
    "              'firstBlood', \n",
    "              'firstTower', \n",
    "              'firstInhibitor', \n",
    "              'firstBaron', \n",
    "              'firstDragon', \n",
    "              'firstRiftHerald', \n",
    "              't1_towerKills', \n",
    "              't1_inhibitorKills', \n",
    "              't1_dragonKills', \n",
    "              't1_riftHeraldKills', \n",
    "              't2_towerKills', \n",
    "              't2_inhibitorKills', \n",
    "              't2_dragonKills', \n",
    "              't2_riftHeraldKills']"
   ]
  },
  {
   "cell_type": "code",
   "execution_count": 21,
   "metadata": {
    "collapsed": true
   },
   "outputs": [],
   "source": [
    "assembler = VectorAssembler(inputCols=input_data, outputCol=\"features\")\n",
    "output = assembler.transform(df)"
   ]
  },
  {
   "cell_type": "code",
   "execution_count": 43,
   "metadata": {},
   "outputs": [
    {
     "name": "stdout",
     "output_type": "stream",
     "text": [
      "Training Dataset Count: 41165\n",
      "Test Dataset Count: 10371\n"
     ]
    }
   ],
   "source": [
    "(trainingData, testData) = output.randomSplit([0.8, 0.2], seed = 1234)\n",
    "print(\"Training Dataset Count: \" + str(trainingData.count()))\n",
    "print(\"Test Dataset Count: \" + str(testData.count()))"
   ]
  },
  {
   "cell_type": "code",
   "execution_count": 45,
   "metadata": {
    "collapsed": true
   },
   "outputs": [],
   "source": [
    "lr = LogisticRegression(maxIter=20, regParam=0.3, family = \"binomial\")\n",
    "lrModel = lr.fit(trainingData)"
   ]
  },
  {
   "cell_type": "code",
   "execution_count": 46,
   "metadata": {},
   "outputs": [
    {
     "data": {
      "image/png": "[encoded data removed]",
      "text/plain": [
       "<matplotlib.figure.Figure at 0x7f572f9cf1d0>"
      ]
     },
     "metadata": {},
     "output_type": "display_data"
    }
   ],
   "source": [
    "import matplotlib.pyplot as plt\n",
    "import numpy as np\n",
    "\n",
    "beta = np.sort(lrModel.coefficients)\n",
    "\n",
    "plt.plot(beta)\n",
    "plt.ylabel('Beta Coefficients')\n",
    "plt.show()"
   ]
  },
  {
   "cell_type": "code",
   "execution_count": 47,
   "metadata": {},
   "outputs": [
    {
     "data": {
      "image/png": "[encoded data removed]",
      "text/plain": [
       "<matplotlib.figure.Figure at 0x7f57339ea5f8>"
      ]
     },
     "metadata": {},
     "output_type": "display_data"
    }
   ],
   "source": [
    "trainingSummary = lrModel.summary\n",
    "\n",
    "# Obtain the objective per iteration\n",
    "objectiveHistory = trainingSummary.objectiveHistory\n",
    "plt.plot(objectiveHistory)\n",
    "plt.ylabel('Objective Function')\n",
    "plt.xlabel('Iteration')\n",
    "plt.show()"
   ]
  },
  {
   "cell_type": "code",
   "execution_count": 48,
   "metadata": {},
   "outputs": [
    {
     "name": "stdout",
     "output_type": "stream",
     "text": [
      "areaUnderROC: 0.9817371574128898\n"
     ]
    },
    {
     "data": {
      "image/png": "[encoded data removed]",
      "text/plain": [
       "<matplotlib.figure.Figure at 0x7f5737a8c208>"
      ]
     },
     "metadata": {},
     "output_type": "display_data"
    }
   ],
   "source": [
    "# Obtain the receiver-operating characteristic as a dataframe and areaUnderROC.\n",
    "print(\"areaUnderROC: \" + str(trainingSummary.areaUnderROC))\n",
    "\n",
    "#trainingSummary.roc.show(n=10, truncate=15)\n",
    "roc = trainingSummary.roc.toPandas()\n",
    "plt.plot(roc['FPR'],roc['TPR'])\n",
    "plt.ylabel('False Positive Rate')\n",
    "plt.xlabel('True Positive Rate')\n",
    "plt.title('ROC Curve')\n",
    "plt.show()"
   ]
  },
  {
   "cell_type": "code",
   "execution_count": 49,
   "metadata": {},
   "outputs": [
    {
     "data": {
      "image/png": "[encoded data removed]",
      "text/plain": [
       "<matplotlib.figure.Figure at 0x7f5730498ef0>"
      ]
     },
     "metadata": {},
     "output_type": "display_data"
    }
   ],
   "source": [
    "pr = trainingSummary.pr.toPandas()\n",
    "plt.plot(pr['recall'],pr['precision'])\n",
    "plt.ylabel('Precision')\n",
    "plt.xlabel('Recall')\n",
    "plt.show()"
   ]
  },
  {
   "cell_type": "code",
   "execution_count": 50,
   "metadata": {
    "collapsed": true
   },
   "outputs": [],
   "source": [
    "predictions = lrModel.transform(testData)"
   ]
  },
  {
   "cell_type": "code",
   "execution_count": 51,
   "metadata": {},
   "outputs": [
    {
     "name": "stdout",
     "output_type": "stream",
     "text": [
      "+-----+----------+----------------------------------------+\n",
      "|label|prediction|                             probability|\n",
      "+-----+----------+----------------------------------------+\n",
      "|    1|       1.0|[0.09967764468265924,0.9003223553173408]|\n",
      "|    0|       0.0| [0.7289566474016609,0.2710433525983391]|\n",
      "|    0|       0.0| [0.6650434665586318,0.3349565334413682]|\n",
      "|    0|       0.0| [0.8427734376125694,0.1572265623874306]|\n",
      "|    1|       1.0|[0.20986278187763105,0.7901372181223689]|\n",
      "|    1|       1.0|[0.20095901932699436,0.7990409806730056]|\n",
      "|    0|       0.0| [0.6432451723377851,0.3567548276622149]|\n",
      "|    0|       0.0|[0.9065156548952689,0.09348434510473112]|\n",
      "|    0|       1.0| [0.3728914412992563,0.6271085587007438]|\n",
      "|    1|       1.0| [0.21377222312994207,0.786227776870058]|\n",
      "+-----+----------+----------------------------------------+\n",
      "only showing top 10 rows\n",
      "\n"
     ]
    }
   ],
   "source": [
    "predictions.select(\"label\",\"prediction\",\"probability\")\\\n",
    "           .show(n=10, truncate=40)"
   ]
  },
  {
   "cell_type": "code",
   "execution_count": 52,
   "metadata": {},
   "outputs": [
    {
     "name": "stdout",
     "output_type": "stream",
     "text": [
      "Number of correct prediction: 9686\n",
      "Total of elements: 10371\n",
      "+----------+--------------------+-----+----------+\n",
      "|    gameId|         probability|label|prediction|\n",
      "+----------+--------------------+-----+----------+\n",
      "|3214824413|[0.09967764468265...|    1|       1.0|\n",
      "|3214825708|[0.72895664740166...|    0|       0.0|\n",
      "|3214843995|[0.66504346655863...|    0|       0.0|\n",
      "|3215041408|[0.84277343761256...|    0|       0.0|\n",
      "|3215114840|[0.20986278187763...|    1|       1.0|\n",
      "|3215119997|[0.20095901932699...|    1|       1.0|\n",
      "|3215149108|[0.64324517233778...|    0|       0.0|\n",
      "|3215193866|[0.90651565489526...|    0|       0.0|\n",
      "|3215297742|[0.21377222312994...|    1|       1.0|\n",
      "|3215303507|[0.93006857105195...|    0|       0.0|\n",
      "|3215451229|[0.85875895947610...|    0|       0.0|\n",
      "|3215522891|[0.62506315913212...|    0|       0.0|\n",
      "|3215573210|[0.93192348930945...|    0|       0.0|\n",
      "|3215576990|[0.74895495520914...|    0|       0.0|\n",
      "|3215584595|[0.91185512807131...|    0|       0.0|\n",
      "|3215653188|[0.89742344553758...|    0|       0.0|\n",
      "|3215659502|[0.16921653369266...|    1|       1.0|\n",
      "|3215715730|[0.09407406358724...|    1|       1.0|\n",
      "|3216025800|[0.53297828594120...|    0|       0.0|\n",
      "|3216075930|[0.73827424631134...|    0|       0.0|\n",
      "|3216083023|[0.62395083077863...|    0|       0.0|\n",
      "|3216182973|[0.92935272114309...|    0|       0.0|\n",
      "|3216209318|[0.13018353130000...|    1|       1.0|\n",
      "|3216677901|[0.85228617559077...|    0|       0.0|\n",
      "|3216735730|[0.21747169701409...|    1|       1.0|\n",
      "|3216792702|[0.07856024598018...|    1|       1.0|\n",
      "|3216799408|[0.22500051798772...|    1|       1.0|\n",
      "|3216883085|[0.87598763245062...|    0|       0.0|\n",
      "|3216906568|[0.14926729213474...|    1|       1.0|\n",
      "|3217133309|[0.69329721833535...|    0|       0.0|\n",
      "|3217171737|[0.24659085792896...|    1|       1.0|\n",
      "|3217177657|[0.64606694387793...|    0|       0.0|\n",
      "|3217177872|[0.43000798291858...|    1|       1.0|\n",
      "|3217242453|[0.32853804740511...|    1|       1.0|\n",
      "|3217361885|[0.59586590993467...|    0|       0.0|\n",
      "|3217420950|[0.28025286119020...|    1|       1.0|\n",
      "|3217583231|[0.92339858387676...|    0|       0.0|\n",
      "|3217706831|[0.90389469369955...|    0|       0.0|\n",
      "|3218009889|[0.86479223958728...|    0|       0.0|\n",
      "|3218228090|[0.91223641204927...|    0|       0.0|\n",
      "|3218337002|[0.95196221905111...|    0|       0.0|\n",
      "|3218349650|[0.15565824223165...|    1|       1.0|\n",
      "|3218510574|[0.10723156159001...|    1|       1.0|\n",
      "|3218557814|[0.90372300443420...|    0|       0.0|\n",
      "|3218606925|[0.81022763053667...|    0|       0.0|\n",
      "|3218608918|[0.90170568733867...|    0|       0.0|\n",
      "|3218745830|[0.49826095117843...|    1|       1.0|\n",
      "|3218920844|[0.61085753401362...|    0|       0.0|\n",
      "|3218976850|[0.89188563960170...|    0|       0.0|\n",
      "|3218977537|[0.23176686216335...|    1|       1.0|\n",
      "|3219001464|[0.87340534526134...|    0|       0.0|\n",
      "|3219029278|[0.87044360172544...|    0|       0.0|\n",
      "|3219054348|[0.87142363285826...|    0|       0.0|\n",
      "|3219087677|[0.82659331320304...|    0|       0.0|\n",
      "|3219185145|[0.86516643304094...|    0|       0.0|\n",
      "|3219224710|[0.37351575152747...|    1|       1.0|\n",
      "|3219332402|[0.20515091281347...|    1|       1.0|\n",
      "|3219355814|[0.83193394008466...|    0|       0.0|\n",
      "|3219375567|[0.35686166549660...|    1|       1.0|\n",
      "|3219376832|[0.85617884487153...|    0|       0.0|\n",
      "|3219490279|[0.61525995183405...|    0|       0.0|\n",
      "|3219605539|[0.43062272019761...|    1|       1.0|\n",
      "|3219620419|[0.28979974094362...|    1|       1.0|\n",
      "|3219822760|[0.23021478464245...|    1|       1.0|\n",
      "|3219841291|[0.86496361416861...|    0|       0.0|\n",
      "|3219924840|[0.14248547817326...|    1|       1.0|\n",
      "|3219931795|[0.16941743762328...|    1|       1.0|\n",
      "|3219942929|[0.14134468847241...|    1|       1.0|\n",
      "|3220049319|[0.32976032511705...|    1|       1.0|\n",
      "|3220114031|[0.37139205506169...|    1|       1.0|\n",
      "|3220153823|[0.89385020847386...|    0|       0.0|\n",
      "|3220217717|[0.76366931523076...|    0|       0.0|\n",
      "|3220274076|[0.88532756095499...|    0|       0.0|\n",
      "|3220288168|[0.20641585648471...|    1|       1.0|\n",
      "|3220442427|[0.91457790832091...|    0|       0.0|\n",
      "|3220488057|[0.14930102968976...|    1|       1.0|\n",
      "|3220489176|[0.86866129261731...|    0|       0.0|\n",
      "|3220497681|[0.13070419800542...|    1|       1.0|\n",
      "|3220553830|[0.85283683310773...|    0|       0.0|\n",
      "|3220756183|[0.32910187809830...|    1|       1.0|\n",
      "|3220770164|[0.92120702826048...|    0|       0.0|\n",
      "|3220822726|[0.11531088790655...|    1|       1.0|\n",
      "|3220924956|[0.42321002644574...|    1|       1.0|\n",
      "|3220964686|[0.10959883566251...|    1|       1.0|\n",
      "|3220968906|[0.93585182192545...|    0|       0.0|\n",
      "|3221033343|[0.85245352177008...|    0|       0.0|\n",
      "|3221090824|[0.19297964334145...|    1|       1.0|\n",
      "|3221095024|[0.84313832953634...|    0|       0.0|\n",
      "|3221113320|[0.94664754991972...|    0|       0.0|\n",
      "|3221219218|[0.62064674180150...|    0|       0.0|\n",
      "|3221373297|[0.69969787080349...|    0|       0.0|\n",
      "|3221558167|[0.12123360368487...|    1|       1.0|\n",
      "|3221732940|[0.87930709448489...|    0|       0.0|\n",
      "|3221735970|[0.93481905527042...|    0|       0.0|\n",
      "|3221801182|[0.36434121762417...|    1|       1.0|\n",
      "|3221816627|[0.23169738466147...|    1|       1.0|\n",
      "|3221927211|[0.18899252089589...|    1|       1.0|\n",
      "|3221946625|[0.90000642942789...|    0|       0.0|\n",
      "|3222025352|[0.92302181827757...|    0|       0.0|\n",
      "|3222070826|[0.45188970326576...|    1|       1.0|\n",
      "+----------+--------------------+-----+----------+\n",
      "only showing top 100 rows\n",
      "\n"
     ]
    }
   ],
   "source": [
    "print(\"Number of correct prediction: \" + str(predictions.filter(predictions['prediction'] == predictions['label']).count()))\n",
    "print(\"Total of elements: \" + str(testData.count()))\n",
    "predictions.filter(predictions['prediction'] == predictions['label'])\\\n",
    "           .select(\"gameId\",\"probability\",\"label\",\"prediction\").show(100)"
   ]
  },
  {
   "cell_type": "code",
   "execution_count": 53,
   "metadata": {},
   "outputs": [
    {
     "name": "stdout",
     "output_type": "stream",
     "text": [
      "Training: Area Under ROC: 0.9817371574128898\n",
      "Test: Area Under ROC: 0.9815117165564154\n"
     ]
    }
   ],
   "source": [
    "from pyspark.ml.evaluation import BinaryClassificationEvaluator\n",
    "print(\"Training: Area Under ROC: \" + str(trainingSummary.areaUnderROC))\n",
    "\n",
    "# Evaluate model\n",
    "evaluator = BinaryClassificationEvaluator(rawPredictionCol=\"rawPrediction\")\n",
    "print(\"Test: Area Under ROC: \" + str(evaluator.evaluate(predictions, {evaluator.metricName: \"areaUnderROC\"})))"
   ]
  },
  {
   "cell_type": "code",
   "execution_count": null,
   "metadata": {},
   "outputs": [],
   "source": []
  },
  {
   "cell_type": "code",
   "execution_count": null,
   "metadata": {
    "collapsed": true
   },
   "outputs": [],
   "source": []
  },
  {
   "cell_type": "code",
   "execution_count": null,
   "metadata": {
    "collapsed": true
   },
   "outputs": [],
   "source": []
  }
 ],
 "metadata": {
  "kernelspec": {
   "display_name": "Python 3",
   "language": "python",
   "name": "python3"
  },
  "language_info": {
   "codemirror_mode": {
    "name": "ipython",
    "version": 3
   },
   "file_extension": ".py",
   "mimetype": "text/x-python",
   "name": "python",
   "nbconvert_exporter": "python",
   "pygments_lexer": "ipython3",
   "version": "3.6.2"
  }
 },
 "nbformat": 4,
 "nbformat_minor": 2
}
